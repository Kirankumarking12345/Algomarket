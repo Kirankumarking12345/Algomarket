{
 "cells": [
  {
   "cell_type": "code",
   "execution_count": 27,
   "metadata": {},
   "outputs": [],
   "source": [
    "import numpy as np\n",
    "import pandas as pd\n",
    "import yfinance as yf\n",
    "yf.pdr_override()\n",
    "from pandas_datareader import data as pdr\n",
    "import pickle as pkl\n",
    "import talib as ta\n",
    "from time import *\n",
    "import datetime as dt\n",
    "import pyttsx3"
   ]
  },
  {
   "cell_type": "code",
   "execution_count": 98,
   "metadata": {},
   "outputs": [],
   "source": [
    "companies = pd.read_csv('ind_nifty50list.csv')\n",
    "companies = companies['Symbol']\n",
    "adder = lambda x: x+\".NS\"\n",
    "companies = [adder(i) for i in companies]"
   ]
  },
  {
   "cell_type": "code",
   "execution_count": 99,
   "metadata": {},
   "outputs": [
    {
     "name": "stdout",
     "output_type": "stream",
     "text": [
      "[*********************100%***********************]  50 of 50 completed\n"
     ]
    }
   ],
   "source": [
    "def get_data(companies):\n",
    "    dataset = pdr.get_data_yahoo(\n",
    "            companies,\n",
    "            interval = '5m' ,\n",
    "            start    = dt.date.today()-dt.timedelta(days=1),\n",
    "            group_by = 'ticker',\n",
    "        )\n",
    "    return dataset\n",
    "#companies = ['HDFC.NS','UPL.NS']\n",
    "k =get_data(companies)"
   ]
  },
  {
   "cell_type": "code",
   "execution_count": 103,
   "metadata": {},
   "outputs": [],
   "source": [
    "req = {}\n",
    "for company in companies:\n",
    "    h = k[company]['High']\n",
    "    l = k[company]['Low']\n",
    "    up  = max(h[-25:])\n",
    "    low = min(l[-25:])\n",
    "    change = up - low\n",
    "    percent = (change/up)*100\n",
    "    if(percent<0.7):\n",
    "        req[company] = percent"
   ]
  },
  {
   "cell_type": "code",
   "execution_count": 106,
   "metadata": {},
   "outputs": [],
   "source": [
    "sorted_req = {}\n",
    "sorted_keys = sorted(req, key=req.get)\n",
    "\n",
    "for w in sorted_keys:\n",
    "    sorted_req[w] = req[w]"
   ]
  },
  {
   "cell_type": "code",
   "execution_count": 107,
   "metadata": {},
   "outputs": [
    {
     "data": {
      "text/plain": [
       "{'BRITANNIA.NS': 0.5427286951217434,\n",
       " 'HDFCLIFE.NS': 0.5569996286669142,\n",
       " 'BAJAJ-AUTO.NS': 0.6327914056009415,\n",
       " 'DRREDDY.NS': 0.655130013860602}"
      ]
     },
     "execution_count": 107,
     "metadata": {},
     "output_type": "execute_result"
    }
   ],
   "source": [
    "sorted_req"
   ]
  }
 ],
 "metadata": {
  "kernelspec": {
   "display_name": "Python 3",
   "language": "python",
   "name": "python3"
  },
  "language_info": {
   "codemirror_mode": {
    "name": "ipython",
    "version": 3
   },
   "file_extension": ".py",
   "mimetype": "text/x-python",
   "name": "python",
   "nbconvert_exporter": "python",
   "pygments_lexer": "ipython3",
   "version": "3.8.5"
  }
 },
 "nbformat": 4,
 "nbformat_minor": 4
}
