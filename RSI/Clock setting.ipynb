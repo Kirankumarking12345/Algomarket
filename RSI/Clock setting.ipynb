{
 "cells": [
  {
   "cell_type": "markdown",
   "metadata": {},
   "source": [
    "# Time setting\n"
   ]
  },
  {
   "cell_type": "code",
   "execution_count": 1,
   "metadata": {},
   "outputs": [],
   "source": [
    "from time import sleep,strftime,localtime\n",
    "import datetime"
   ]
  },
  {
   "cell_type": "code",
   "execution_count": 2,
   "metadata": {},
   "outputs": [],
   "source": [
    "def settime(delay_time):   \n",
    "    '''\n",
    "    sets time to correct delay_time'''\n",
    "\n",
    "    minute = int(strftime(\"%H:%M:%S\", localtime())[3:5])\n",
    "    seconds = int(strftime(\"%H:%M:%S\", localtime())[-2:] )\n",
    "\n",
    "    if ( (minute%delay_time) != 0 ) or ((minute%delay_time) == 0) and ((seconds)>15):\n",
    "                  sleep(60- seconds)\n",
    "                  minute = minute+1\n",
    "                  sleep((delay_time - ( minute % delay_time ) ) * 60 +1)\n",
    "                    \n",
    "    else:         pass"
   ]
  },
  {
   "cell_type": "code",
   "execution_count": null,
   "metadata": {},
   "outputs": [
    {
     "name": "stdout",
     "output_type": "stream",
     "text": [
      "Stored 'var' (bool)\n",
      "Stored 'var' (bool)\n",
      "09:45:01\n",
      "Stored 'var' (bool)\n",
      "Stored 'var' (bool)\n",
      "False\n",
      "09:50:02\n",
      "Stored 'var' (bool)\n",
      "Stored 'var' (bool)\n",
      "False\n",
      "09:55:03\n",
      "Stored 'var' (bool)\n",
      "Stored 'var' (bool)\n",
      "False\n",
      "10:00:04\n",
      "Stored 'var' (bool)\n",
      "Stored 'var' (bool)\n",
      "False\n",
      "10:05:05\n",
      "Stored 'var' (bool)\n",
      "Stored 'var' (bool)\n",
      "False\n",
      "10:10:06\n",
      "Stored 'var' (bool)\n",
      "Stored 'var' (bool)\n",
      "False\n",
      "10:15:07\n",
      "Stored 'var' (bool)\n",
      "Stored 'var' (bool)\n",
      "False\n",
      "10:20:08\n",
      "Stored 'var' (bool)\n",
      "Stored 'var' (bool)\n",
      "False\n",
      "10:25:09\n",
      "Stored 'var' (bool)\n",
      "Stored 'var' (bool)\n",
      "False\n"
     ]
    }
   ],
   "source": [
    "while True:\n",
    "    delay = 5  # minutes of delay\n",
    "    var = True\n",
    "    %store var\n",
    "    sleep(0.1)\n",
    "    var = False\n",
    "    %store var \n",
    "    settime(delay)\n",
    "    print(strftime(\"%H:%M:%S\", localtime()))\n",
    "    while True:\n",
    "        var = True\n",
    "        %store var \n",
    "        sleep(1)\n",
    "        var = False\n",
    "        %store var \n",
    "        print(var)\n",
    "        sleep(delay*60)\n",
    "        print(strftime(\"%H:%M:%S\", localtime()))"
   ]
  },
  {
   "cell_type": "code",
   "execution_count": null,
   "metadata": {},
   "outputs": [],
   "source": [
    "sleep(0.5)"
   ]
  },
  {
   "cell_type": "code",
   "execution_count": null,
   "metadata": {},
   "outputs": [],
   "source": []
  }
 ],
 "metadata": {
  "kernelspec": {
   "display_name": "Python 3",
   "language": "python",
   "name": "python3"
  },
  "language_info": {
   "codemirror_mode": {
    "name": "ipython",
    "version": 3
   },
   "file_extension": ".py",
   "mimetype": "text/x-python",
   "name": "python",
   "nbconvert_exporter": "python",
   "pygments_lexer": "ipython3",
   "version": "3.8.5"
  }
 },
 "nbformat": 4,
 "nbformat_minor": 4
}
