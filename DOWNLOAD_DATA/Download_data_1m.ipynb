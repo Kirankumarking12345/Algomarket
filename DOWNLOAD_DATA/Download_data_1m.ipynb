{
 "cells": [
  {
   "cell_type": "code",
   "execution_count": 1,
   "metadata": {},
   "outputs": [],
   "source": [
    "import yfinance as yf\n",
    "import pandas as pd\n",
    "from datetime import date as dt\n",
    "import os"
   ]
  },
  {
   "cell_type": "code",
   "execution_count": 2,
   "metadata": {},
   "outputs": [],
   "source": [
    "data = ['ADANIPORTS',\n",
    " 'ASIANPAINT',\n",
    " 'AXISBANK',\n",
    " 'BAJAJ-AUTO',\n",
    " 'BAJFINANCE',\n",
    " 'BAJAJFINSV',\n",
    " 'BPCL',\n",
    " 'BHARTIARTL',\n",
    " 'BRITANNIA',\n",
    " 'CIPLA',\n",
    " 'COALINDIA',\n",
    " 'DIVISLAB',\n",
    " 'DRREDDY',\n",
    " 'EICHERMOT',\n",
    " 'GAIL',\n",
    " 'GRASIM',\n",
    " 'HCLTECH',\n",
    " 'HDFCBANK',\n",
    " 'HDFCLIFE',\n",
    " 'HEROMOTOCO',\n",
    " 'HINDALCO',\n",
    " 'HINDUNILVR',\n",
    " 'HDFC',\n",
    " 'ICICIBANK',\n",
    " 'ITC',\n",
    " 'IOC',\n",
    " 'INDUSINDBK',\n",
    " 'INFY',\n",
    " 'JSWSTEEL',\n",
    " 'KOTAKBANK',\n",
    " 'LT',\n",
    " 'M&M',\n",
    " 'MARUTI',\n",
    " 'NTPC',\n",
    " 'NESTLEIND',\n",
    " 'ONGC',\n",
    " 'POWERGRID',\n",
    " 'RELIANCE',\n",
    " 'SBILIFE',\n",
    " 'SHREECEM',\n",
    " 'SBIN',\n",
    " 'SUNPHARMA',\n",
    " 'TCS',\n",
    " 'TATAMOTORS',\n",
    " 'TATASTEEL',\n",
    " 'TECHM',\n",
    " 'TITAN',\n",
    " 'UPL',\n",
    " 'ULTRACEMCO',\n",
    " 'WIPRO']\n",
    "\n"
   ]
  },
  {
   "cell_type": "code",
   "execution_count": 3,
   "metadata": {},
   "outputs": [],
   "source": [
    "s = '2021-02-21'\n",
    "e = str(dt.today())\n",
    "def download(time):\n",
    "    for d in data:\n",
    "        da = yf.download(\n",
    "            tickers  = d + \".NS\",\n",
    "            interval = time ,\n",
    "            start    = s,\n",
    "            end      = e,\n",
    "            group_by = 'ticker',\n",
    "        )\n",
    "        da.to_csv('C:/Users/Kiran/algomarket/MarketData/'+ d +\"/\"+time+\"/\"+d +\" \"+s+\" to \"+e +\" \"+ time+\".csv\")"
   ]
  },
  {
   "cell_type": "code",
   "execution_count": null,
   "metadata": {},
   "outputs": [
    {
     "name": "stdout",
     "output_type": "stream",
     "text": [
      "[*********************100%***********************]  1 of 1 completed\n",
      "[*********************100%***********************]  1 of 1 completed\n",
      "[*********************100%***********************]  1 of 1 completed\n",
      "[*********************100%***********************]  1 of 1 completed\n",
      "[*********************100%***********************]  1 of 1 completed\n",
      "[*********************100%***********************]  1 of 1 completed\n",
      "[*********************100%***********************]  1 of 1 completed\n",
      "[*********************100%***********************]  1 of 1 completed\n",
      "[*********************100%***********************]  1 of 1 completed\n",
      "[*********************100%***********************]  1 of 1 completed\n"
     ]
    }
   ],
   "source": [
    "download(\"1m\")"
   ]
  },
  {
   "cell_type": "code",
   "execution_count": null,
   "metadata": {},
   "outputs": [],
   "source": []
  }
 ],
 "metadata": {
  "kernelspec": {
   "display_name": "Python 3",
   "language": "python",
   "name": "python3"
  },
  "language_info": {
   "codemirror_mode": {
    "name": "ipython",
    "version": 3
   },
   "file_extension": ".py",
   "mimetype": "text/x-python",
   "name": "python",
   "nbconvert_exporter": "python",
   "pygments_lexer": "ipython3",
   "version": "3.8.5"
  }
 },
 "nbformat": 4,
 "nbformat_minor": 4
}
