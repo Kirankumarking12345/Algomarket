{
 "cells": [
  {
   "cell_type": "code",
   "execution_count": 29,
   "metadata": {},
   "outputs": [],
   "source": [
    "import pandas as pd\n",
    "import numpy as np\n",
    "import yfinance as yf\n",
    "import datetime as dt\n",
    "yf.pdr_override()\n",
    "from pandas_datareader import data as pdr\n",
    "import pandas_market_calendars as mcal\n",
    "bse = mcal.get_calendar('BSE')"
   ]
  },
  {
   "cell_type": "code",
   "execution_count": 30,
   "metadata": {},
   "outputs": [],
   "source": [
    "c = ['ADANIPORTS',\n",
    " 'ASIANPAINT',\n",
    " 'AXISBANK',\n",
    " 'BAJAJ-AUTO',\n",
    " 'BAJFINANCE',\n",
    " 'BAJAJFINSV',\n",
    " 'BPCL',\n",
    " 'BHARTIARTL',\n",
    " 'BRITANNIA',\n",
    " 'CIPLA',\n",
    " 'COALINDIA',\n",
    " 'DIVISLAB',\n",
    " 'DRREDDY',\n",
    " 'EICHERMOT',\n",
    " 'GAIL',\n",
    " 'GRASIM',\n",
    " 'HCLTECH',\n",
    " 'HDFCBANK',\n",
    " 'HDFCLIFE',\n",
    " 'HEROMOTOCO',\n",
    " 'HINDALCO',\n",
    " 'HINDUNILVR',\n",
    " 'HDFC',\n",
    " 'ICICIBANK',\n",
    " 'ITC',\n",
    " 'IOC',\n",
    " 'INDUSINDBK',\n",
    " 'INFY',\n",
    " 'JSWSTEEL',\n",
    " 'KOTAKBANK',\n",
    " 'LT',\n",
    " 'M&M',\n",
    " 'MARUTI',\n",
    " 'NTPC',\n",
    " 'NESTLEIND',\n",
    " 'ONGC',\n",
    " 'POWERGRID',\n",
    " 'RELIANCE',\n",
    " 'SBILIFE',\n",
    " 'SHREECEM',\n",
    " 'SBIN',\n",
    " 'SUNPHARMA',\n",
    " 'TCS',\n",
    " 'TATAMOTORS',\n",
    " 'TATASTEEL',\n",
    " 'TECHM',\n",
    " 'TITAN',\n",
    " 'UPL',\n",
    " 'ULTRACEMCO',\n",
    " 'WIPRO']\n",
    "adder = lambda x: x+\".NS\"\n",
    "c = [adder(i) for i in c]\n",
    "nyse = mcal.get_calendar('XBOM')\n",
    "bse = nyse.valid_days(start_date = dt.date.today()-dt.timedelta(days=59), end_date=dt.date.today())"
   ]
  },
  {
   "cell_type": "code",
   "execution_count": 31,
   "metadata": {},
   "outputs": [
    {
     "name": "stdout",
     "output_type": "stream",
     "text": [
      "[*********************100%***********************]  50 of 50 completed\n"
     ]
    }
   ],
   "source": [
    "def download_data(companies):\n",
    "    dataset = pdr.get_data_yahoo(companies,\n",
    "                                  start = dt.date.today()-dt.timedelta(days=59),\n",
    "                                  end   = dt.date.today(),\n",
    "                                  #start = str(dt.date.today()),\n",
    "                                  interval = \"5m\",\n",
    "                                  group_by ='ticker'\n",
    "                                 )\n",
    "    return dataset\n",
    "data  = download_data(c)"
   ]
  },
  {
   "cell_type": "code",
   "execution_count": 32,
   "metadata": {},
   "outputs": [],
   "source": [
    "def avg_cumulative_vol(vol):\n",
    "    x = np.empty((5,75), dtype=int)\n",
    "    for i in range(0,5):\n",
    "        x[i][:] =vol[75*i : (75*i)+75]\n",
    "    y = x.cumsum(axis=1)\n",
    "    y = y.sum(axis=0)/5\n",
    "    return y\n",
    "def cumulative_vol(vol):\n",
    "    vol = vol[0:75].values\n",
    "    y   = vol.cumsum()\n",
    "    return y"
   ]
  },
  {
   "cell_type": "markdown",
   "metadata": {},
   "source": [
    "## Data cleaning"
   ]
  },
  {
   "cell_type": "code",
   "execution_count": 33,
   "metadata": {},
   "outputs": [],
   "source": [
    "for d in range(0,34):\n",
    "    if(data.index.date[d*75] == data.index.date[d*75+74]):\n",
    "        continue\n",
    "    else:\n",
    "        k         = data.index.tolist()\n",
    "        up_date   = k.index(data.index[d*75]+dt.timedelta(days=1))\n",
    "        da = k.index(data.index[d*75])\n",
    "        data.drop(k[da : up_date],inplace=True)"
   ]
  },
  {
   "cell_type": "code",
   "execution_count": 35,
   "metadata": {},
   "outputs": [
    {
     "name": "stderr",
     "output_type": "stream",
     "text": [
      "<ipython-input-35-bf6156e2862b>:8: RuntimeWarning: invalid value encountered in true_divide\n",
      "  relative_vol = y/x\n",
      "<ipython-input-35-bf6156e2862b>:8: RuntimeWarning: divide by zero encountered in true_divide\n",
      "  relative_vol = y/x\n"
     ]
    }
   ],
   "source": [
    "relativeVol = pd.DataFrame()\n",
    "for j in c:\n",
    "    vol = data[j][\"Volume\"]\n",
    "    relvol    = []\n",
    "    for i in range(0,vol.shape[0]//75-5):\n",
    "        x = avg_cumulative_vol(vol[i*75 : i*75+75*5])\n",
    "        y = cumulative_vol(vol[(i+5)*75 : (i+5)*75+75])\n",
    "        relative_vol = y/x\n",
    "        relvol.extend(relative_vol)\n",
    "        k = list(np.zeros(375,dtype=int))\n",
    "        k.extend(relvol)\n",
    "    relativeVol[j] = k"
   ]
  }
 ],
 "metadata": {
  "kernelspec": {
   "display_name": "Python 3",
   "language": "python",
   "name": "python3"
  },
  "language_info": {
   "codemirror_mode": {
    "name": "ipython",
    "version": 3
   },
   "file_extension": ".py",
   "mimetype": "text/x-python",
   "name": "python",
   "nbconvert_exporter": "python",
   "pygments_lexer": "ipython3",
   "version": "3.8.5"
  }
 },
 "nbformat": 4,
 "nbformat_minor": 4
}
