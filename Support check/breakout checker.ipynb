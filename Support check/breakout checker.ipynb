{
 "cells": [
  {
   "cell_type": "code",
   "execution_count": 1,
   "metadata": {},
   "outputs": [
    {
     "name": "stderr",
     "output_type": "stream",
     "text": [
      "C:\\Users\\Kiran\\anaconda3\\lib\\site-packages\\mpl_finance.py:16: DeprecationWarning: \n",
      "\n",
      "  =================================================================\n",
      "\n",
      "   WARNING: `mpl_finance` is deprecated:\n",
      "\n",
      "    Please use `mplfinance` instead (no hyphen, no underscore).\n",
      "\n",
      "    To install: `pip install --upgrade mplfinance` \n",
      "\n",
      "   For more information, see: https://pypi.org/project/mplfinance/\n",
      "\n",
      "  =================================================================\n",
      "\n",
      "  __warnings.warn('\\n\\n  ================================================================='+\n"
     ]
    },
    {
     "data": {
      "text/plain": [
       "\"engine = pyttsx3.init()\\nvoices = engine.getProperty('voices')       #getting details of current voice\\n#engine.setProperty('voice', voices[0].id)  #changing index, changes voices. o for male\\nengine.setProperty('voice', voices[1].id)   #changing index, changes voices. 1 for female\\nnewVoiceRate = 160\\nengine.setProperty('rate',newVoiceRate)\\nengine.say('Hello Sir. Welcome to stock screening')\\nengine.runAndWait()\""
      ]
     },
     "execution_count": 1,
     "metadata": {},
     "output_type": "execute_result"
    }
   ],
   "source": [
    "import numpy as np\n",
    "import pandas as pd\n",
    "import yfinance as yf\n",
    "yf.pdr_override()\n",
    "from pandas_datareader import data as pdr\n",
    "import pickle as pkl\n",
    "import talib as ta\n",
    "from time import *\n",
    "import datetime\n",
    "from datetime import date \n",
    "import pyttsx3\n",
    "from mpl_finance import candlestick_ohlc\n",
    "#import matplotlib.dates as mpl_dates\n",
    "#import matplotlib.pyplot as plt\n",
    "\n",
    "#plt.rcParams['figure.figsize'] = [12, 7]\n",
    "\n",
    "#plt.rc('font', size=14)\n",
    "\n",
    "'''engine = pyttsx3.init()\n",
    "voices = engine.getProperty('voices')       #getting details of current voice\n",
    "#engine.setProperty('voice', voices[0].id)  #changing index, changes voices. o for male\n",
    "engine.setProperty('voice', voices[1].id)   #changing index, changes voices. 1 for female\n",
    "newVoiceRate = 160\n",
    "engine.setProperty('rate',newVoiceRate)\n",
    "engine.say('Hello Sir. Welcome to stock screening')\n",
    "engine.runAndWait()'''"
   ]
  },
  {
   "cell_type": "code",
   "execution_count": 2,
   "metadata": {},
   "outputs": [],
   "source": [
    "def get_data(timefra,companies,date,end_date =datetime.date.today().strftime(\"%Y-%m-%d\") ):    \n",
    "    \n",
    "    '''return data of whole companies'''\n",
    "    timeframes = [timefra]\n",
    "    \n",
    "    for time in timeframes:\n",
    "        # download dataframe\n",
    "        dataset = pdr.get_data_yahoo(companies, \n",
    "                                  start = date,\n",
    "                                  #end= end_date,\n",
    "                                  interval = time,\n",
    "                                  group_by ='ticker',\n",
    "                              \n",
    "                                     \n",
    "                                 )\n",
    "    return dataset"
   ]
  },
  {
   "cell_type": "code",
   "execution_count": 3,
   "metadata": {},
   "outputs": [],
   "source": [
    "adder = lambda x: x+\".NS\"\n",
    "companies = np.array(['HDFC','UPL','TITAN','TECHM','TATASTEEL','TATAMOTORS','SHREECEM','SBILIFE','RELIANCE','ONGC','M&M',\n",
    "         'LT','IOC','ITC','JSWSTEEL','KOTAKBANK','BAJAJ-AUTO','BAJAJFINSV','BPCL','BHARTIARTL','BRITANNIA',\n",
    "         'CIPLA','COALINDIA','EICHERMOT','GAIL','GRASIM','HCLTECH','HDFCLIFE','IOC','HINDALCO','HINDUNILVR',\n",
    "          'HDFC','SUNTV','BATAINDIA','ASHOKLEY','SIEMENS','STAR','ZEEL','CENTURYTEX','SRTRANSFIN','PVR',\n",
    "            'IBULHSGFIN','M&MFIN','JINDALSTEL','SRTRANSFIN','VOLTAS'])\n",
    "companies = [adder(i) for i in companies]"
   ]
  },
  {
   "cell_type": "code",
   "execution_count": 64,
   "metadata": {},
   "outputs": [
    {
     "name": "stdout",
     "output_type": "stream",
     "text": [
      "[*********************100%***********************]  43 of 43 completed\n"
     ]
    }
   ],
   "source": [
    "data = get_data('1h',companies,'2021-03-23')"
   ]
  },
  {
   "cell_type": "code",
   "execution_count": 61,
   "metadata": {},
   "outputs": [],
   "source": [
    "#print(data[companies[0]].iloc[-8,:]['Open'] - data[companies[0]].iloc[-1,:]['Close'])"
   ]
  },
  {
   "cell_type": "code",
   "execution_count": 55,
   "metadata": {},
   "outputs": [],
   "source": [
    "#candle 4 hours high low checking\n",
    "change = {}\n",
    "for company in companies:\n",
    "    change[company] =  ( data[company].iloc[-8,:]['Open'] - data[company].iloc[-1,:]['Close'] ) / data[company].iloc[-1,:]['Close'] \n",
    "                                                               \n",
    "                                                               \n",
    "change = sorted( change.items(), key=lambda  v: v[1] , reverse=False)    \n",
    "#change"
   ]
  },
  {
   "cell_type": "code",
   "execution_count": 46,
   "metadata": {},
   "outputs": [],
   "source": [
    "change = np.array(change)\n",
    "ar  = np.swapaxes(change,0,1)\n",
    "ar[1] = np.absolute( ar[1].astype('float32') )\n",
    "change = np.swapaxes(ar,0,1)"
   ]
  },
  {
   "cell_type": "code",
   "execution_count": 47,
   "metadata": {},
   "outputs": [],
   "source": [
    "change = change[np.argsort(ar[1])]"
   ]
  },
  {
   "cell_type": "code",
   "execution_count": 48,
   "metadata": {},
   "outputs": [
    {
     "data": {
      "text/plain": [
       "array([['SRTRANSFIN.NS', '0.0016341377'],\n",
       "       ['CENTURYTEX.NS', '0.0030800821'],\n",
       "       ['BHARTIARTL.NS', '0.003877412'],\n",
       "       ['HCLTECH.NS', '0.003882689'],\n",
       "       ['SHREECEM.NS', '0.0044980207'],\n",
       "       ['BRITANNIA.NS', '0.00570965'],\n",
       "       ['BPCL.NS', '0.0068161096'],\n",
       "       ['HDFCLIFE.NS', '0.007288004'],\n",
       "       ['GRASIM.NS', '0.008431229'],\n",
       "       ['TITAN.NS', '0.008437205'],\n",
       "       ['JSWSTEEL.NS', '0.009023443'],\n",
       "       ['EICHERMOT.NS', '0.009526834'],\n",
       "       ['HINDUNILVR.NS', '0.010088099'],\n",
       "       ['VOLTAS.NS', '0.011116688'],\n",
       "       ['PVR.NS', '0.012765284'],\n",
       "       ['SIEMENS.NS', '0.013516445'],\n",
       "       ['ASHOKLEY.NS', '0.013698589'],\n",
       "       ['BATAINDIA.NS', '0.013917768'],\n",
       "       ['BAJAJ-AUTO.NS', '0.014834777'],\n",
       "       ['KOTAKBANK.NS', '0.014929499'],\n",
       "       ['HDFC.NS', '0.016189799'],\n",
       "       ['SUNTV.NS', '0.016412389'],\n",
       "       ['IOC.NS', '0.017341057'],\n",
       "       ['BAJAJFINSV.NS', '0.017864082'],\n",
       "       ['TECHM.NS', '0.019223081'],\n",
       "       ['ONGC.NS', '0.020437278'],\n",
       "       ['UPL.NS', '0.020536363'],\n",
       "       ['RELIANCE.NS', '0.020835463'],\n",
       "       ['COALINDIA.NS', '0.021036722'],\n",
       "       ['STAR.NS', '0.02255639'],\n",
       "       ['M&MFIN.NS', '0.02287103'],\n",
       "       ['CIPLA.NS', '0.023446333'],\n",
       "       ['ZEEL.NS', '0.025939424'],\n",
       "       ['ITC.NS', '0.026544636'],\n",
       "       ['SBILIFE.NS', '0.026680376'],\n",
       "       ['LT.NS', '0.03021978'],\n",
       "       ['GAIL.NS', '0.032736868'],\n",
       "       ['TATASTEEL.NS', '0.03297937'],\n",
       "       ['JINDALSTEL.NS', '0.033013478'],\n",
       "       ['TATAMOTORS.NS', '0.033912547'],\n",
       "       ['IBULHSGFIN.NS', '0.03691933'],\n",
       "       ['HINDALCO.NS', '0.04385278'],\n",
       "       ['M&M.NS', '0.049572114']], dtype='<U21')"
      ]
     },
     "execution_count": 48,
     "metadata": {},
     "output_type": "execute_result"
    }
   ],
   "source": [
    "change"
   ]
  },
  {
   "cell_type": "code",
   "execution_count": null,
   "metadata": {},
   "outputs": [],
   "source": []
  },
  {
   "cell_type": "code",
   "execution_count": null,
   "metadata": {},
   "outputs": [],
   "source": []
  }
 ],
 "metadata": {
  "kernelspec": {
   "display_name": "Python 3",
   "language": "python",
   "name": "python3"
  },
  "language_info": {
   "codemirror_mode": {
    "name": "ipython",
    "version": 3
   },
   "file_extension": ".py",
   "mimetype": "text/x-python",
   "name": "python",
   "nbconvert_exporter": "python",
   "pygments_lexer": "ipython3",
   "version": "3.8.5"
  }
 },
 "nbformat": 4,
 "nbformat_minor": 4
}
