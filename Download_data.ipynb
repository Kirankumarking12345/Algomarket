{
 "cells": [
  {
   "cell_type": "code",
   "execution_count": 1,
   "metadata": {},
   "outputs": [],
   "source": [
    "import yfinance as yf\n",
    "import pandas as pd\n",
    "from datetime import date as dt\n",
    "import os"
   ]
  },
  {
   "cell_type": "code",
   "execution_count": 2,
   "metadata": {},
   "outputs": [],
   "source": [
    "#data = pd.read_csv('ind_nifty50list.csv')\n",
    "#d = data['Symbol']\n",
    "#d.tolist()"
   ]
  },
  {
   "cell_type": "code",
   "execution_count": 3,
   "metadata": {},
   "outputs": [],
   "source": [
    "data = ['ADANIPORTS',\n",
    " 'ASIANPAINT',\n",
    " 'AXISBANK',\n",
    " 'BAJAJ-AUTO',\n",
    " 'BAJFINANCE',\n",
    " 'BAJAJFINSV',\n",
    " 'BPCL',\n",
    " 'BHARTIARTL',\n",
    " 'BRITANNIA',\n",
    " 'CIPLA',\n",
    " 'COALINDIA',\n",
    " 'DIVISLAB',\n",
    " 'DRREDDY',\n",
    " 'EICHERMOT',\n",
    " 'GAIL',\n",
    " 'GRASIM',\n",
    " 'HCLTECH',\n",
    " 'HDFCBANK',\n",
    " 'HDFCLIFE',\n",
    " 'HEROMOTOCO',\n",
    " 'HINDALCO',\n",
    " 'HINDUNILVR',\n",
    " 'HDFC',\n",
    " 'ICICIBANK',\n",
    " 'ITC',\n",
    " 'IOC',\n",
    " 'INDUSINDBK',\n",
    " 'INFY',\n",
    " 'JSWSTEEL',\n",
    " 'KOTAKBANK',\n",
    " 'LT',\n",
    " 'M&M',\n",
    " 'MARUTI',\n",
    " 'NTPC',\n",
    " 'NESTLEIND',\n",
    " 'ONGC',\n",
    " 'POWERGRID',\n",
    " 'RELIANCE',\n",
    " 'SBILIFE',\n",
    " 'SHREECEM',\n",
    " 'SBIN',\n",
    " 'SUNPHARMA',\n",
    " 'TCS',\n",
    " 'TATAMOTORS',\n",
    " 'TATASTEEL',\n",
    " 'TECHM',\n",
    " 'TITAN',\n",
    " 'UPL',\n",
    " 'ULTRACEMCO',\n",
    " 'WIPRO']\n",
    "\n",
    "timeframes = ['1m','2m','5m','15m','30m','1h','1d']"
   ]
  },
  {
   "cell_type": "code",
   "execution_count": 4,
   "metadata": {},
   "outputs": [],
   "source": [
    "s = '2020-12-30'\n",
    "e = str(dt.today())\n",
    "def download(time):\n",
    "    for d in data:\n",
    "        da = yf.download(\n",
    "            tickers  = d + \".NS\",\n",
    "            interval = time ,\n",
    "            start    = s,\n",
    "            end      = e,\n",
    "            group_by = 'ticker',\n",
    "        )\n",
    "        da.to_csv('C:/Users/Kiran/algomarket/MarketData/'+ d +\"/\"+t+\"/\"+d +\" \"+s+\" to \"+e +\" \"+ time+\".csv\")\n"
   ]
  },
  {
   "cell_type": "code",
   "execution_count": 5,
   "metadata": {},
   "outputs": [
    {
     "name": "stdout",
     "output_type": "stream",
     "text": [
      "The required directory already exists\n"
     ]
    }
   ],
   "source": [
    "# creating the directory\n",
    "try:\n",
    "    for i in data:\n",
    "        parent_dir = \"C:/Users/Kiran/algomarket/MarketData/\"\n",
    "        path = os.path.join(parent_dir, i) \n",
    "        os.mkdir(path)\n",
    "        for j in timeframes:\n",
    "            parent_dir = \"C:/Users/Kiran/algomarket/MarketData/\"+i+\"/\"\n",
    "            path = os.path.join(parent_dir, j) \n",
    "            os.mkdir(path) \n",
    "except:\n",
    "    print(\"The required directory already exists\")"
   ]
  },
  {
   "cell_type": "code",
   "execution_count": null,
   "metadata": {},
   "outputs": [
    {
     "name": "stdout",
     "output_type": "stream",
     "text": [
      "[*********************100%***********************]  1 of 1 completed\n",
      "[*********************100%***********************]  1 of 1 completed\n",
      "[*********************100%***********************]  1 of 1 completed\n",
      "[*********************100%***********************]  1 of 1 completed\n",
      "[*********************100%***********************]  1 of 1 completed\n",
      "[*********************100%***********************]  1 of 1 completed\n",
      "[*********************100%***********************]  1 of 1 completed\n",
      "[*********************100%***********************]  1 of 1 completed\n",
      "[*********************100%***********************]  1 of 1 completed\n",
      "[*********************100%***********************]  1 of 1 completed\n",
      "[*********************100%***********************]  1 of 1 completed\n",
      "[*********************100%***********************]  1 of 1 completed\n",
      "[*********************100%***********************]  1 of 1 completed\n",
      "[*********************100%***********************]  1 of 1 completed\n"
     ]
    }
   ],
   "source": [
    "timeframes = timeframes[1:]\n",
    "for t in timeframes:\n",
    "    download(t)\n",
    "    "
   ]
  },
  {
   "cell_type": "code",
   "execution_count": null,
   "metadata": {},
   "outputs": [],
   "source": []
  }
 ],
 "metadata": {
  "kernelspec": {
   "display_name": "Python 3",
   "language": "python",
   "name": "python3"
  },
  "language_info": {
   "codemirror_mode": {
    "name": "ipython",
    "version": 3
   },
   "file_extension": ".py",
   "mimetype": "text/x-python",
   "name": "python",
   "nbconvert_exporter": "python",
   "pygments_lexer": "ipython3",
   "version": "3.8.5"
  }
 },
 "nbformat": 4,
 "nbformat_minor": 4
}
